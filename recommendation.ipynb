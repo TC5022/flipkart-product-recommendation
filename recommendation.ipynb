{
 "cells": [
  {
   "cell_type": "code",
   "execution_count": 41,
   "id": "438592b1-1c7f-4bf4-bd44-a634798701cc",
   "metadata": {},
   "outputs": [
    {
     "name": "stdout",
     "output_type": "stream",
     "text": [
      "Collecting nltk\n",
      "  Downloading nltk-3.8.1-py3-none-any.whl (1.5 MB)\n",
      "\u001b[2K     \u001b[90m━━━━━━━━━━━━━━━━━━━━━━━━━━━━━━━━━━━━━━━━\u001b[0m \u001b[32m1.5/1.5 MB\u001b[0m \u001b[31m4.1 MB/s\u001b[0m eta \u001b[36m0:00:00\u001b[0m00:01\u001b[0m00:01\u001b[0m\n",
      "\u001b[?25hRequirement already satisfied: click in /Library/Frameworks/Python.framework/Versions/3.11/lib/python3.11/site-packages (from nltk) (8.1.4)\n",
      "Requirement already satisfied: joblib in /Library/Frameworks/Python.framework/Versions/3.11/lib/python3.11/site-packages (from nltk) (1.3.1)\n",
      "Collecting regex>=2021.8.3 (from nltk)\n",
      "  Downloading regex-2023.6.3-cp311-cp311-macosx_11_0_arm64.whl (288 kB)\n",
      "\u001b[2K     \u001b[90m━━━━━━━━━━━━━━━━━━━━━━━━━━━━━━━━━━━━━━━\u001b[0m \u001b[32m289.0/289.0 kB\u001b[0m \u001b[31m4.0 MB/s\u001b[0m eta \u001b[36m0:00:00\u001b[0ma \u001b[36m0:00:01\u001b[0m\n",
      "\u001b[?25hRequirement already satisfied: tqdm in /Library/Frameworks/Python.framework/Versions/3.11/lib/python3.11/site-packages (from nltk) (4.65.0)\n",
      "Installing collected packages: regex, nltk\n",
      "Successfully installed nltk-3.8.1 regex-2023.6.3\n",
      "\n",
      "\u001b[1m[\u001b[0m\u001b[34;49mnotice\u001b[0m\u001b[1;39;49m]\u001b[0m\u001b[39;49m A new release of pip is available: \u001b[0m\u001b[31;49m23.1.2\u001b[0m\u001b[39;49m -> \u001b[0m\u001b[32;49m23.2.1\u001b[0m\n",
      "\u001b[1m[\u001b[0m\u001b[34;49mnotice\u001b[0m\u001b[1;39;49m]\u001b[0m\u001b[39;49m To update, run: \u001b[0m\u001b[32;49mpip3 install --upgrade pip\u001b[0m\n",
      "Note: you may need to restart the kernel to use updated packages.\n"
     ]
    }
   ],
   "source": [
    "pip install nltk"
   ]
  },
  {
   "cell_type": "code",
   "execution_count": 1,
   "id": "3b3cfbab-3003-4391-869a-c16f894dcf18",
   "metadata": {},
   "outputs": [],
   "source": [
    "import numpy as np\n",
    "import pandas as pd\n",
    "import os"
   ]
  },
  {
   "cell_type": "code",
   "execution_count": 2,
   "id": "707e71a9-40cf-4823-98b4-b1b78c128847",
   "metadata": {},
   "outputs": [
    {
     "data": {
      "text/html": [
       "<div>\n",
       "<style scoped>\n",
       "    .dataframe tbody tr th:only-of-type {\n",
       "        vertical-align: middle;\n",
       "    }\n",
       "\n",
       "    .dataframe tbody tr th {\n",
       "        vertical-align: top;\n",
       "    }\n",
       "\n",
       "    .dataframe thead th {\n",
       "        text-align: right;\n",
       "    }\n",
       "</style>\n",
       "<table border=\"1\" class=\"dataframe\">\n",
       "  <thead>\n",
       "    <tr style=\"text-align: right;\">\n",
       "      <th></th>\n",
       "      <th>uniq_id</th>\n",
       "      <th>crawl_timestamp</th>\n",
       "      <th>product_url</th>\n",
       "      <th>product_name</th>\n",
       "      <th>product_category_tree</th>\n",
       "      <th>pid</th>\n",
       "      <th>retail_price</th>\n",
       "      <th>discounted_price</th>\n",
       "      <th>image</th>\n",
       "      <th>is_FK_Advantage_product</th>\n",
       "      <th>description</th>\n",
       "      <th>product_rating</th>\n",
       "      <th>overall_rating</th>\n",
       "      <th>brand</th>\n",
       "      <th>product_specifications</th>\n",
       "    </tr>\n",
       "  </thead>\n",
       "  <tbody>\n",
       "    <tr>\n",
       "      <th>0</th>\n",
       "      <td>c2d766ca982eca8304150849735ffef9</td>\n",
       "      <td>2016-03-25 22:59:23 +0000</td>\n",
       "      <td>http://www.flipkart.com/alisha-solid-women-s-c...</td>\n",
       "      <td>Alisha Solid Women's Cycling Shorts</td>\n",
       "      <td>[\"Clothing &gt;&gt; Women's Clothing &gt;&gt; Lingerie, Sl...</td>\n",
       "      <td>SRTEH2FF9KEDEFGF</td>\n",
       "      <td>999.0</td>\n",
       "      <td>379.0</td>\n",
       "      <td>[\"http://img5a.flixcart.com/image/short/u/4/a/...</td>\n",
       "      <td>False</td>\n",
       "      <td>Key Features of Alisha Solid Women's Cycling S...</td>\n",
       "      <td>No rating available</td>\n",
       "      <td>No rating available</td>\n",
       "      <td>Alisha</td>\n",
       "      <td>{\"product_specification\"=&gt;[{\"key\"=&gt;\"Number of ...</td>\n",
       "    </tr>\n",
       "    <tr>\n",
       "      <th>1</th>\n",
       "      <td>7f7036a6d550aaa89d34c77bd39a5e48</td>\n",
       "      <td>2016-03-25 22:59:23 +0000</td>\n",
       "      <td>http://www.flipkart.com/fabhomedecor-fabric-do...</td>\n",
       "      <td>FabHomeDecor Fabric Double Sofa Bed</td>\n",
       "      <td>[\"Furniture &gt;&gt; Living Room Furniture &gt;&gt; Sofa B...</td>\n",
       "      <td>SBEEH3QGU7MFYJFY</td>\n",
       "      <td>32157.0</td>\n",
       "      <td>22646.0</td>\n",
       "      <td>[\"http://img6a.flixcart.com/image/sofa-bed/j/f...</td>\n",
       "      <td>False</td>\n",
       "      <td>FabHomeDecor Fabric Double Sofa Bed (Finish Co...</td>\n",
       "      <td>No rating available</td>\n",
       "      <td>No rating available</td>\n",
       "      <td>FabHomeDecor</td>\n",
       "      <td>{\"product_specification\"=&gt;[{\"key\"=&gt;\"Installati...</td>\n",
       "    </tr>\n",
       "    <tr>\n",
       "      <th>2</th>\n",
       "      <td>f449ec65dcbc041b6ae5e6a32717d01b</td>\n",
       "      <td>2016-03-25 22:59:23 +0000</td>\n",
       "      <td>http://www.flipkart.com/aw-bellies/p/itmeh4grg...</td>\n",
       "      <td>AW Bellies</td>\n",
       "      <td>[\"Footwear &gt;&gt; Women's Footwear &gt;&gt; Ballerinas &gt;...</td>\n",
       "      <td>SHOEH4GRSUBJGZXE</td>\n",
       "      <td>999.0</td>\n",
       "      <td>499.0</td>\n",
       "      <td>[\"http://img5a.flixcart.com/image/shoe/7/z/z/r...</td>\n",
       "      <td>False</td>\n",
       "      <td>Key Features of AW Bellies Sandals Wedges Heel...</td>\n",
       "      <td>No rating available</td>\n",
       "      <td>No rating available</td>\n",
       "      <td>AW</td>\n",
       "      <td>{\"product_specification\"=&gt;[{\"key\"=&gt;\"Ideal For\"...</td>\n",
       "    </tr>\n",
       "    <tr>\n",
       "      <th>3</th>\n",
       "      <td>0973b37acd0c664e3de26e97e5571454</td>\n",
       "      <td>2016-03-25 22:59:23 +0000</td>\n",
       "      <td>http://www.flipkart.com/alisha-solid-women-s-c...</td>\n",
       "      <td>Alisha Solid Women's Cycling Shorts</td>\n",
       "      <td>[\"Clothing &gt;&gt; Women's Clothing &gt;&gt; Lingerie, Sl...</td>\n",
       "      <td>SRTEH2F6HUZMQ6SJ</td>\n",
       "      <td>699.0</td>\n",
       "      <td>267.0</td>\n",
       "      <td>[\"http://img5a.flixcart.com/image/short/6/2/h/...</td>\n",
       "      <td>False</td>\n",
       "      <td>Key Features of Alisha Solid Women's Cycling S...</td>\n",
       "      <td>No rating available</td>\n",
       "      <td>No rating available</td>\n",
       "      <td>Alisha</td>\n",
       "      <td>{\"product_specification\"=&gt;[{\"key\"=&gt;\"Number of ...</td>\n",
       "    </tr>\n",
       "    <tr>\n",
       "      <th>4</th>\n",
       "      <td>bc940ea42ee6bef5ac7cea3fb5cfbee7</td>\n",
       "      <td>2016-03-25 22:59:23 +0000</td>\n",
       "      <td>http://www.flipkart.com/sicons-all-purpose-arn...</td>\n",
       "      <td>Sicons All Purpose Arnica Dog Shampoo</td>\n",
       "      <td>[\"Pet Supplies &gt;&gt; Grooming &gt;&gt; Skin &amp; Coat Care...</td>\n",
       "      <td>PSOEH3ZYDMSYARJ5</td>\n",
       "      <td>220.0</td>\n",
       "      <td>210.0</td>\n",
       "      <td>[\"http://img5a.flixcart.com/image/pet-shampoo/...</td>\n",
       "      <td>False</td>\n",
       "      <td>Specifications of Sicons All Purpose Arnica Do...</td>\n",
       "      <td>No rating available</td>\n",
       "      <td>No rating available</td>\n",
       "      <td>Sicons</td>\n",
       "      <td>{\"product_specification\"=&gt;[{\"key\"=&gt;\"Pet Type\",...</td>\n",
       "    </tr>\n",
       "  </tbody>\n",
       "</table>\n",
       "</div>"
      ],
      "text/plain": [
       "                            uniq_id            crawl_timestamp  \\\n",
       "0  c2d766ca982eca8304150849735ffef9  2016-03-25 22:59:23 +0000   \n",
       "1  7f7036a6d550aaa89d34c77bd39a5e48  2016-03-25 22:59:23 +0000   \n",
       "2  f449ec65dcbc041b6ae5e6a32717d01b  2016-03-25 22:59:23 +0000   \n",
       "3  0973b37acd0c664e3de26e97e5571454  2016-03-25 22:59:23 +0000   \n",
       "4  bc940ea42ee6bef5ac7cea3fb5cfbee7  2016-03-25 22:59:23 +0000   \n",
       "\n",
       "                                         product_url  \\\n",
       "0  http://www.flipkart.com/alisha-solid-women-s-c...   \n",
       "1  http://www.flipkart.com/fabhomedecor-fabric-do...   \n",
       "2  http://www.flipkart.com/aw-bellies/p/itmeh4grg...   \n",
       "3  http://www.flipkart.com/alisha-solid-women-s-c...   \n",
       "4  http://www.flipkart.com/sicons-all-purpose-arn...   \n",
       "\n",
       "                            product_name  \\\n",
       "0    Alisha Solid Women's Cycling Shorts   \n",
       "1    FabHomeDecor Fabric Double Sofa Bed   \n",
       "2                             AW Bellies   \n",
       "3    Alisha Solid Women's Cycling Shorts   \n",
       "4  Sicons All Purpose Arnica Dog Shampoo   \n",
       "\n",
       "                               product_category_tree               pid  \\\n",
       "0  [\"Clothing >> Women's Clothing >> Lingerie, Sl...  SRTEH2FF9KEDEFGF   \n",
       "1  [\"Furniture >> Living Room Furniture >> Sofa B...  SBEEH3QGU7MFYJFY   \n",
       "2  [\"Footwear >> Women's Footwear >> Ballerinas >...  SHOEH4GRSUBJGZXE   \n",
       "3  [\"Clothing >> Women's Clothing >> Lingerie, Sl...  SRTEH2F6HUZMQ6SJ   \n",
       "4  [\"Pet Supplies >> Grooming >> Skin & Coat Care...  PSOEH3ZYDMSYARJ5   \n",
       "\n",
       "   retail_price  discounted_price  \\\n",
       "0         999.0             379.0   \n",
       "1       32157.0           22646.0   \n",
       "2         999.0             499.0   \n",
       "3         699.0             267.0   \n",
       "4         220.0             210.0   \n",
       "\n",
       "                                               image  is_FK_Advantage_product  \\\n",
       "0  [\"http://img5a.flixcart.com/image/short/u/4/a/...                    False   \n",
       "1  [\"http://img6a.flixcart.com/image/sofa-bed/j/f...                    False   \n",
       "2  [\"http://img5a.flixcart.com/image/shoe/7/z/z/r...                    False   \n",
       "3  [\"http://img5a.flixcart.com/image/short/6/2/h/...                    False   \n",
       "4  [\"http://img5a.flixcart.com/image/pet-shampoo/...                    False   \n",
       "\n",
       "                                         description       product_rating  \\\n",
       "0  Key Features of Alisha Solid Women's Cycling S...  No rating available   \n",
       "1  FabHomeDecor Fabric Double Sofa Bed (Finish Co...  No rating available   \n",
       "2  Key Features of AW Bellies Sandals Wedges Heel...  No rating available   \n",
       "3  Key Features of Alisha Solid Women's Cycling S...  No rating available   \n",
       "4  Specifications of Sicons All Purpose Arnica Do...  No rating available   \n",
       "\n",
       "        overall_rating         brand  \\\n",
       "0  No rating available        Alisha   \n",
       "1  No rating available  FabHomeDecor   \n",
       "2  No rating available            AW   \n",
       "3  No rating available        Alisha   \n",
       "4  No rating available        Sicons   \n",
       "\n",
       "                              product_specifications  \n",
       "0  {\"product_specification\"=>[{\"key\"=>\"Number of ...  \n",
       "1  {\"product_specification\"=>[{\"key\"=>\"Installati...  \n",
       "2  {\"product_specification\"=>[{\"key\"=>\"Ideal For\"...  \n",
       "3  {\"product_specification\"=>[{\"key\"=>\"Number of ...  \n",
       "4  {\"product_specification\"=>[{\"key\"=>\"Pet Type\",...  "
      ]
     },
     "execution_count": 2,
     "metadata": {},
     "output_type": "execute_result"
    }
   ],
   "source": [
    "products = pd.read_csv('products.csv')\n",
    "products.head()"
   ]
  },
  {
   "cell_type": "code",
   "execution_count": 3,
   "id": "7ade2e93-f641-46b1-b4e6-c1703e91b9ae",
   "metadata": {},
   "outputs": [
    {
     "data": {
      "text/plain": [
       "(12676, 20000)"
      ]
     },
     "execution_count": 3,
     "metadata": {},
     "output_type": "execute_result"
    }
   ],
   "source": [
    "len(products['product_name'].unique()), len(products['uniq_id'].unique())"
   ]
  },
  {
   "cell_type": "code",
   "execution_count": 4,
   "id": "490ea164-df15-4e28-a61f-413110f282ec",
   "metadata": {},
   "outputs": [
    {
     "name": "stdout",
     "output_type": "stream",
     "text": [
      "<class 'pandas.core.frame.DataFrame'>\n",
      "RangeIndex: 20000 entries, 0 to 19999\n",
      "Data columns (total 15 columns):\n",
      " #   Column                   Non-Null Count  Dtype  \n",
      "---  ------                   --------------  -----  \n",
      " 0   uniq_id                  20000 non-null  object \n",
      " 1   crawl_timestamp          20000 non-null  object \n",
      " 2   product_url              20000 non-null  object \n",
      " 3   product_name             20000 non-null  object \n",
      " 4   product_category_tree    20000 non-null  object \n",
      " 5   pid                      20000 non-null  object \n",
      " 6   retail_price             19922 non-null  float64\n",
      " 7   discounted_price         19922 non-null  float64\n",
      " 8   image                    19997 non-null  object \n",
      " 9   is_FK_Advantage_product  20000 non-null  bool   \n",
      " 10  description              19998 non-null  object \n",
      " 11  product_rating           20000 non-null  object \n",
      " 12  overall_rating           20000 non-null  object \n",
      " 13  brand                    14136 non-null  object \n",
      " 14  product_specifications   19986 non-null  object \n",
      "dtypes: bool(1), float64(2), object(12)\n",
      "memory usage: 2.2+ MB\n"
     ]
    }
   ],
   "source": [
    "products.info()"
   ]
  },
  {
   "cell_type": "code",
   "execution_count": 35,
   "id": "fa309a41-48e6-4014-8c1f-36e817cff9c7",
   "metadata": {},
   "outputs": [],
   "source": [
    "products['product_category_tree']=products['product_category_tree'].map(lambda x:x.strip('[]'))\n",
    "products['product_category_tree']=products['product_category_tree'].map(lambda x:x.strip('\"'))\n",
    "products['product_category_tree']=products['product_category_tree'].map(lambda x:x.split('>>'))"
   ]
  },
  {
   "cell_type": "code",
   "execution_count": 36,
   "id": "1141cae7-34fb-4007-9e86-981581364ea6",
   "metadata": {},
   "outputs": [],
   "source": [
    "products = products.drop(['crawl_timestamp','product_url','image',\"retail_price\",\"discounted_price\",\"is_FK_Advantage_product\",\"product_rating\",\"overall_rating\",\"product_specifications\"], axis=1)"
   ]
  },
  {
   "cell_type": "code",
   "execution_count": 37,
   "id": "51f38c8d-95c1-4f45-bda4-af6d83ef3cf3",
   "metadata": {},
   "outputs": [
    {
     "data": {
      "text/html": [
       "<div>\n",
       "<style scoped>\n",
       "    .dataframe tbody tr th:only-of-type {\n",
       "        vertical-align: middle;\n",
       "    }\n",
       "\n",
       "    .dataframe tbody tr th {\n",
       "        vertical-align: top;\n",
       "    }\n",
       "\n",
       "    .dataframe thead th {\n",
       "        text-align: right;\n",
       "    }\n",
       "</style>\n",
       "<table border=\"1\" class=\"dataframe\">\n",
       "  <thead>\n",
       "    <tr style=\"text-align: right;\">\n",
       "      <th></th>\n",
       "      <th>uniq_id</th>\n",
       "      <th>product_name</th>\n",
       "      <th>product_category_tree</th>\n",
       "      <th>pid</th>\n",
       "      <th>description</th>\n",
       "      <th>brand</th>\n",
       "    </tr>\n",
       "  </thead>\n",
       "  <tbody>\n",
       "    <tr>\n",
       "      <th>0</th>\n",
       "      <td>c2d766ca982eca8304150849735ffef9</td>\n",
       "      <td>Alisha Solid Women's Cycling Shorts</td>\n",
       "      <td>[Clothing ,  Women's Clothing ,  Lingerie, Sle...</td>\n",
       "      <td>SRTEH2FF9KEDEFGF</td>\n",
       "      <td>Key Features of Alisha Solid Women's Cycling S...</td>\n",
       "      <td>Alisha</td>\n",
       "    </tr>\n",
       "    <tr>\n",
       "      <th>1</th>\n",
       "      <td>7f7036a6d550aaa89d34c77bd39a5e48</td>\n",
       "      <td>FabHomeDecor Fabric Double Sofa Bed</td>\n",
       "      <td>[Furniture ,  Living Room Furniture ,  Sofa Be...</td>\n",
       "      <td>SBEEH3QGU7MFYJFY</td>\n",
       "      <td>FabHomeDecor Fabric Double Sofa Bed (Finish Co...</td>\n",
       "      <td>FabHomeDecor</td>\n",
       "    </tr>\n",
       "    <tr>\n",
       "      <th>2</th>\n",
       "      <td>f449ec65dcbc041b6ae5e6a32717d01b</td>\n",
       "      <td>AW Bellies</td>\n",
       "      <td>[Footwear ,  Women's Footwear ,  Ballerinas , ...</td>\n",
       "      <td>SHOEH4GRSUBJGZXE</td>\n",
       "      <td>Key Features of AW Bellies Sandals Wedges Heel...</td>\n",
       "      <td>AW</td>\n",
       "    </tr>\n",
       "    <tr>\n",
       "      <th>3</th>\n",
       "      <td>0973b37acd0c664e3de26e97e5571454</td>\n",
       "      <td>Alisha Solid Women's Cycling Shorts</td>\n",
       "      <td>[Clothing ,  Women's Clothing ,  Lingerie, Sle...</td>\n",
       "      <td>SRTEH2F6HUZMQ6SJ</td>\n",
       "      <td>Key Features of Alisha Solid Women's Cycling S...</td>\n",
       "      <td>Alisha</td>\n",
       "    </tr>\n",
       "    <tr>\n",
       "      <th>4</th>\n",
       "      <td>bc940ea42ee6bef5ac7cea3fb5cfbee7</td>\n",
       "      <td>Sicons All Purpose Arnica Dog Shampoo</td>\n",
       "      <td>[Pet Supplies ,  Grooming ,  Skin &amp; Coat Care ...</td>\n",
       "      <td>PSOEH3ZYDMSYARJ5</td>\n",
       "      <td>Specifications of Sicons All Purpose Arnica Do...</td>\n",
       "      <td>Sicons</td>\n",
       "    </tr>\n",
       "  </tbody>\n",
       "</table>\n",
       "</div>"
      ],
      "text/plain": [
       "                            uniq_id                           product_name  \\\n",
       "0  c2d766ca982eca8304150849735ffef9    Alisha Solid Women's Cycling Shorts   \n",
       "1  7f7036a6d550aaa89d34c77bd39a5e48    FabHomeDecor Fabric Double Sofa Bed   \n",
       "2  f449ec65dcbc041b6ae5e6a32717d01b                             AW Bellies   \n",
       "3  0973b37acd0c664e3de26e97e5571454    Alisha Solid Women's Cycling Shorts   \n",
       "4  bc940ea42ee6bef5ac7cea3fb5cfbee7  Sicons All Purpose Arnica Dog Shampoo   \n",
       "\n",
       "                               product_category_tree               pid  \\\n",
       "0  [Clothing ,  Women's Clothing ,  Lingerie, Sle...  SRTEH2FF9KEDEFGF   \n",
       "1  [Furniture ,  Living Room Furniture ,  Sofa Be...  SBEEH3QGU7MFYJFY   \n",
       "2  [Footwear ,  Women's Footwear ,  Ballerinas , ...  SHOEH4GRSUBJGZXE   \n",
       "3  [Clothing ,  Women's Clothing ,  Lingerie, Sle...  SRTEH2F6HUZMQ6SJ   \n",
       "4  [Pet Supplies ,  Grooming ,  Skin & Coat Care ...  PSOEH3ZYDMSYARJ5   \n",
       "\n",
       "                                         description         brand  \n",
       "0  Key Features of Alisha Solid Women's Cycling S...        Alisha  \n",
       "1  FabHomeDecor Fabric Double Sofa Bed (Finish Co...  FabHomeDecor  \n",
       "2  Key Features of AW Bellies Sandals Wedges Heel...            AW  \n",
       "3  Key Features of Alisha Solid Women's Cycling S...        Alisha  \n",
       "4  Specifications of Sicons All Purpose Arnica Do...        Sicons  "
      ]
     },
     "execution_count": 37,
     "metadata": {},
     "output_type": "execute_result"
    }
   ],
   "source": [
    "products.head()"
   ]
  },
  {
   "cell_type": "code",
   "execution_count": 38,
   "id": "96e89a98-9580-4a7c-a464-9c9738674673",
   "metadata": {},
   "outputs": [
    {
     "data": {
      "text/plain": [
       "(12676, 6)"
      ]
     },
     "execution_count": 38,
     "metadata": {},
     "output_type": "execute_result"
    }
   ],
   "source": [
    "smd=products.copy()\n",
    "# drop duplicate produts\n",
    "smd.drop_duplicates(subset =\"product_name\", \n",
    "                     keep = \"first\", inplace = True)\n",
    "smd.shape"
   ]
  },
  {
   "cell_type": "code",
   "execution_count": 62,
   "id": "67dffff7-fe25-41b7-bf22-27a37e8dcc1b",
   "metadata": {},
   "outputs": [],
   "source": [
    "products['product_category_tree'] = products['product_category_tree'].apply(lambda x: ''.join(x))"
   ]
  },
  {
   "cell_type": "code",
   "execution_count": 63,
   "id": "f73bb6a6-e561-4596-9635-39dd7ac86f68",
   "metadata": {},
   "outputs": [
    {
     "data": {
      "text/plain": [
       "0        Clothing   Women's Clothing   Lingerie, Sleep ...\n",
       "1        Furniture   Living Room Furniture   Sofa Beds ...\n",
       "2        Footwear   Women's Footwear   Ballerinas   AW ...\n",
       "3        Clothing   Women's Clothing   Lingerie, Sleep ...\n",
       "4        Pet Supplies   Grooming   Skin & Coat Care   S...\n",
       "                               ...                        \n",
       "19995    Baby Care   Baby & Kids Gifts   Stickers   Wal...\n",
       "19996    Baby Care   Baby & Kids Gifts   Stickers   Wal...\n",
       "19997    Baby Care   Baby & Kids Gifts   Stickers   Eli...\n",
       "19998    Baby Care   Baby & Kids Gifts   Stickers   Eli...\n",
       "19999    Baby Care   Baby & Kids Gifts   Stickers   Eli...\n",
       "Name: product_category_tree, Length: 20000, dtype: object"
      ]
     },
     "execution_count": 63,
     "metadata": {},
     "output_type": "execute_result"
    }
   ],
   "source": [
    "products['product_category_tree']"
   ]
  },
  {
   "cell_type": "code",
   "execution_count": 73,
   "id": "9c796cd5-1dd4-4d81-b0c7-6158b4696a4a",
   "metadata": {},
   "outputs": [],
   "source": [
    "smd[\"all_meta\"]=smd['product_name']+' '+ smd['brand']+ ' '+ products['product_category_tree']+smd['description']\n",
    "smd[\"all_meta\"] = smd[\"all_meta\"].fillna('')\n",
    "smd[\"all_meta\"] = smd[\"all_meta\"].apply(lambda x: x.lower())"
   ]
  },
  {
   "cell_type": "code",
   "execution_count": 74,
   "id": "eda60350-3cfb-46a3-9de4-09d4a66c9281",
   "metadata": {},
   "outputs": [
    {
     "data": {
      "text/plain": [
       "0    alisha solid women's cycling shorts alisha clo...\n",
       "1    fabhomedecor fabric double sofa bed fabhomedec...\n",
       "2    aw bellies aw footwear   women's footwear   ba...\n",
       "4    sicons all purpose arnica dog shampoo sicons p...\n",
       "5    eternal gandhi super series crystal paper weig...\n",
       "Name: all_meta, dtype: object"
      ]
     },
     "execution_count": 74,
     "metadata": {},
     "output_type": "execute_result"
    }
   ],
   "source": [
    "smd[\"all_meta\"].head()"
   ]
  },
  {
   "cell_type": "code",
   "execution_count": 5,
   "id": "beaf8b30-21b2-46ad-9176-28cfd0c199c5",
   "metadata": {},
   "outputs": [],
   "source": [
    "from sklearn.feature_extraction.text import TfidfVectorizer, CountVectorizer\n",
    "tfv = TfidfVectorizer(max_features=None,\n",
    "                     strip_accents='unicode',\n",
    "                     analyzer='word',\n",
    "                     min_df=10,\n",
    "                     token_pattern=r'\\w{1,}',\n",
    "                     ngram_range=(1,3),#take the combination of 1-3 different kind of words\n",
    "                     stop_words='english')#removes all the unnecessary characters like the,in etc.\n",
    "products['description'] = products['description'].fillna('')"
   ]
  },
  {
   "cell_type": "code",
   "execution_count": 75,
   "id": "8b73fb40-c8c3-46a9-ade2-5d05275f2ac3",
   "metadata": {},
   "outputs": [],
   "source": [
    "tfv_matrix = tfv.fit_transform(products['description'])\n",
    "tfidf_matrix = tfv.fit_transform(smd['all_meta'])"
   ]
  },
  {
   "cell_type": "code",
   "execution_count": 12,
   "id": "9f058143-889b-4bf7-be8c-4c5524f4677b",
   "metadata": {},
   "outputs": [
    {
     "data": {
      "text/plain": [
       "<20000x23315 sparse matrix of type '<class 'numpy.float64'>'\n",
       "\twith 1510389 stored elements in Compressed Sparse Row format>"
      ]
     },
     "execution_count": 12,
     "metadata": {},
     "output_type": "execute_result"
    }
   ],
   "source": [
    "tfv_matrix"
   ]
  },
  {
   "cell_type": "code",
   "execution_count": 13,
   "id": "56e720bf-9537-4155-b5c7-1db8c4ff7723",
   "metadata": {},
   "outputs": [
    {
     "data": {
      "text/plain": [
       "array([[0., 0., 0., ..., 0., 0., 0.],\n",
       "       [0., 0., 0., ..., 0., 0., 0.],\n",
       "       [0., 0., 0., ..., 0., 0., 0.],\n",
       "       ...,\n",
       "       [0., 0., 0., ..., 0., 0., 0.],\n",
       "       [0., 0., 0., ..., 0., 0., 0.],\n",
       "       [0., 0., 0., ..., 0., 0., 0.]])"
      ]
     },
     "execution_count": 13,
     "metadata": {},
     "output_type": "execute_result"
    }
   ],
   "source": [
    "tfv_matrix.toarray()"
   ]
  },
  {
   "cell_type": "code",
   "execution_count": 14,
   "id": "1b70166c-b371-4ac6-b49b-d37cb7124fdc",
   "metadata": {},
   "outputs": [
    {
     "data": {
      "text/plain": [
       "(20000, 23315)"
      ]
     },
     "execution_count": 14,
     "metadata": {},
     "output_type": "execute_result"
    }
   ],
   "source": [
    "tfv_matrix.shape"
   ]
  },
  {
   "cell_type": "code",
   "execution_count": 76,
   "id": "9f0492b7-5331-4690-a267-614f373c3950",
   "metadata": {},
   "outputs": [],
   "source": [
    "from sklearn.metrics.pairwise import cosine_similarity\n",
    "sig = cosine_similarity(tfv_matrix, tfv_matrix)\n",
    "cosine_sim = cosine_similarity(tfidf_matrix, tfidf_matrix)"
   ]
  },
  {
   "cell_type": "code",
   "execution_count": 17,
   "id": "87014e90-df4f-427a-8123-3416dccdca9c",
   "metadata": {},
   "outputs": [
    {
     "data": {
      "text/plain": [
       "<enumerate at 0x281ded440>"
      ]
     },
     "execution_count": 17,
     "metadata": {},
     "output_type": "execute_result"
    }
   ],
   "source": [
    "enumerate(sig[1])"
   ]
  },
  {
   "cell_type": "code",
   "execution_count": 29,
   "id": "f2ccf4ad-8f83-4cc8-b8bd-639441486427",
   "metadata": {},
   "outputs": [],
   "source": [
    "indices = pd.Series(products.index,index=products['product_name']).drop_duplicates()"
   ]
  },
  {
   "cell_type": "code",
   "execution_count": 30,
   "id": "a0705bb0-a47f-4333-a293-0f22491191e9",
   "metadata": {},
   "outputs": [
    {
     "data": {
      "text/plain": [
       "product_name\n",
       "Alisha Solid Women's Cycling Shorts            0\n",
       "FabHomeDecor Fabric Double Sofa Bed            1\n",
       "AW Bellies                                     2\n",
       "Alisha Solid Women's Cycling Shorts            3\n",
       "Sicons All Purpose Arnica Dog Shampoo          4\n",
       "                                           ...  \n",
       "WallDesign Small Vinyl Sticker             19995\n",
       "Wallmantra Large Vinyl Stickers Sticker    19996\n",
       "Elite Collection Medium Acrylic Sticker    19997\n",
       "Elite Collection Medium Acrylic Sticker    19998\n",
       "Elite Collection Medium Acrylic Sticker    19999\n",
       "Length: 20000, dtype: int64"
      ]
     },
     "execution_count": 30,
     "metadata": {},
     "output_type": "execute_result"
    }
   ],
   "source": [
    "indices"
   ]
  },
  {
   "cell_type": "code",
   "execution_count": 17,
   "id": "b17c2925-cd79-4f28-89f7-6f14549382cc",
   "metadata": {},
   "outputs": [],
   "source": [
    "from sklearn.metrics import pairwise_distances\n",
    "from sklearn.preprocessing import MultiLabelBinarizer"
   ]
  },
  {
   "cell_type": "code",
   "execution_count": 18,
   "id": "0c9342fa-31db-43b3-a901-aa29618e366b",
   "metadata": {},
   "outputs": [],
   "source": [
    "mlb = MultiLabelBinarizer()\n",
    "product_category_tree = products['product_category_tree'].apply(eval)\n",
    "category_matrix = mlb.fit_transform(product_category_tree)"
   ]
  },
  {
   "cell_type": "code",
   "execution_count": 19,
   "id": "0c36293c-eddf-428e-a7ed-e896dd1f4881",
   "metadata": {},
   "outputs": [
    {
     "data": {
      "text/plain": [
       "array([[0, 0, 0, ..., 0, 0, 0],\n",
       "       [0, 0, 0, ..., 0, 0, 0],\n",
       "       [0, 0, 0, ..., 0, 0, 0],\n",
       "       ...,\n",
       "       [0, 0, 0, ..., 0, 0, 0],\n",
       "       [0, 0, 0, ..., 0, 0, 0],\n",
       "       [0, 0, 0, ..., 0, 0, 0]])"
      ]
     },
     "execution_count": 19,
     "metadata": {},
     "output_type": "execute_result"
    }
   ],
   "source": [
    "category_matrix"
   ]
  },
  {
   "cell_type": "code",
   "execution_count": 20,
   "id": "4a73acc8-15a1-48fa-810a-7dc21e18aace",
   "metadata": {},
   "outputs": [
    {
     "name": "stderr",
     "output_type": "stream",
     "text": [
      "/Library/Frameworks/Python.framework/Versions/3.11/lib/python3.11/site-packages/sklearn/metrics/pairwise.py:2181: DataConversionWarning: Data was converted to boolean for metric jaccard\n",
      "  warnings.warn(msg, DataConversionWarning)\n"
     ]
    }
   ],
   "source": [
    "jaccard_sim_matrix = 1 - pairwise_distances(category_matrix, metric='jaccard')"
   ]
  },
  {
   "cell_type": "code",
   "execution_count": 31,
   "id": "c0a112bc-531e-44b8-80a7-defc2740a019",
   "metadata": {},
   "outputs": [
    {
     "data": {
      "text/plain": [
       "array([[1., 0., 0., ..., 0., 0., 0.],\n",
       "       [0., 1., 0., ..., 0., 0., 0.],\n",
       "       [0., 0., 1., ..., 0., 0., 0.],\n",
       "       ...,\n",
       "       [0., 0., 0., ..., 1., 1., 1.],\n",
       "       [0., 0., 0., ..., 1., 1., 1.],\n",
       "       [0., 0., 0., ..., 1., 1., 1.]])"
      ]
     },
     "execution_count": 31,
     "metadata": {},
     "output_type": "execute_result"
    }
   ],
   "source": [
    "jaccard_sim_matrix"
   ]
  },
  {
   "cell_type": "code",
   "execution_count": 33,
   "id": "7f7a93d0-5cf3-4a3c-92cf-7c3ad819874f",
   "metadata": {},
   "outputs": [],
   "source": [
    "def product_recommendation(title, sig=sig):\n",
    "    idx = indices[title]\n",
    "    sig_scores = list(enumerate(sig[idx]))\n",
    "    sig_scores = sorted(sig_scores, key = lambda x: x[1], reverse=True )\n",
    "    sig_scores = sig_scores[1:11]\n",
    "    product_indices = [i[0] for i in sig_scores]\n",
    "    return products['product_name'].iloc[product_indices]"
   ]
  },
  {
   "cell_type": "code",
   "execution_count": 77,
   "id": "88c64856-eb74-4bec-a634-9448c02416d1",
   "metadata": {},
   "outputs": [],
   "source": [
    "def get_recommendations(title):\n",
    "    idx = indices[title]\n",
    "    sim_scores = list(enumerate(cosine_sim[idx]))\n",
    "    sim_scores = sorted(sim_scores, key=lambda x: x[1], reverse=True)\n",
    "    sim_scores = sim_scores[1:31]\n",
    "    product_indices = [i[0] for i in sim_scores]\n",
    "    return titles.iloc[product_indices]"
   ]
  },
  {
   "cell_type": "code",
   "execution_count": 22,
   "id": "136f9b55-00c1-484b-ab4b-49ab1ab32114",
   "metadata": {},
   "outputs": [],
   "source": [
    "def jaccard_recommendation(title, jaccard_sim_matrix=jaccard_sim_matrix, indices=indices):\n",
    "    print(indices[title])\n",
    "    \n",
    "\n",
    "    idx = indices[title]\n",
    "    if idx >= jaccard_sim_matrix.shape[0]:\n",
    "        print(f\"Error: Index '{idx}' is out of range for the jaccard_sim_matrix.\")\n",
    "        return None\n",
    "\n",
    "    sig_scores = list(enumerate(jaccard_sim_matrix[idx]))\n",
    "    sig_scores = sorted(sig_scores, key=lambda x: x[1], reverse=True)\n",
    "    sig_scores = sig_scores[1:11]\n",
    "    product_indices = [i[0] for i in sig_scores]\n",
    "    return products['product_name'].iloc[product_indices]"
   ]
  },
  {
   "cell_type": "code",
   "execution_count": 25,
   "id": "d81f1c26-8770-4a40-be65-ad34eb80bb35",
   "metadata": {},
   "outputs": [
    {
     "name": "stdout",
     "output_type": "stream",
     "text": [
      "20\n"
     ]
    },
    {
     "data": {
      "text/plain": [
       "0                  Alisha Solid Women's Cycling Shorts\n",
       "1                  FabHomeDecor Fabric Double Sofa Bed\n",
       "2                                           AW Bellies\n",
       "3                  Alisha Solid Women's Cycling Shorts\n",
       "4                Sicons All Purpose Arnica Dog Shampoo\n",
       "5    Eternal Gandhi Super Series Crystal Paper Weig...\n",
       "6                  Alisha Solid Women's Cycling Shorts\n",
       "7                  FabHomeDecor Fabric Double Sofa Bed\n",
       "8    dilli bazaaar Bellies, Corporate Casuals, Casuals\n",
       "9                  Alisha Solid Women's Cycling Shorts\n",
       "Name: product_name, dtype: object"
      ]
     },
     "execution_count": 25,
     "metadata": {},
     "output_type": "execute_result"
    }
   ],
   "source": [
    "jaccard_recommendation(20)"
   ]
  },
  {
   "cell_type": "code",
   "execution_count": 34,
   "id": "a62007b9-2c38-4362-a054-ffe7973eb818",
   "metadata": {},
   "outputs": [
    {
     "data": {
      "text/plain": [
       "array(['Sicons All Purpose Arnica Dog Shampoo',\n",
       "       'Sicons All Purpose Tea Tree Dog Shampoo',\n",
       "       'Magideal Raincoat for Dog',\n",
       "       'Royal Canin Maxi Starter 1kg Vegetable Dog Food',\n",
       "       'Four Paws Sweats for Cat, Dog', 'Babyoye Premium Dog Face Bib',\n",
       "       'Petto Raincoat for Dog, Cat',\n",
       "       'Wella Elements Leight Weight Renewing Conditioner',\n",
       "       'L Oreal Eversleek Sulfate - Free Smoothing System Intense Smoothing Shampoo',\n",
       "       'Four Paws Round Plastic Pet Bottle'], dtype=object)"
      ]
     },
     "execution_count": 34,
     "metadata": {},
     "output_type": "execute_result"
    }
   ],
   "source": [
    "product_recommendation(20).unique()"
   ]
  },
  {
   "cell_type": "code",
   "execution_count": null,
   "id": "0630836d-1461-4eeb-bd7e-96ea7eccdea0",
   "metadata": {},
   "outputs": [],
   "source": []
  }
 ],
 "metadata": {
  "kernelspec": {
   "display_name": "Python 3 (ipykernel)",
   "language": "python",
   "name": "python3"
  },
  "language_info": {
   "codemirror_mode": {
    "name": "ipython",
    "version": 3
   },
   "file_extension": ".py",
   "mimetype": "text/x-python",
   "name": "python",
   "nbconvert_exporter": "python",
   "pygments_lexer": "ipython3",
   "version": "3.11.4"
  }
 },
 "nbformat": 4,
 "nbformat_minor": 5
}
